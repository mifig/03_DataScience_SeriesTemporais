{
 "cells": [
  {
   "cell_type": "code",
   "execution_count": 2,
   "metadata": {},
   "outputs": [],
   "source": [
    "global project_path, data_file, prepared_out_data_file, ts_transf_data_file, target, time_var, drop_vars, ts_transf_df\n",
    "# date_vars, date_vars_without_closed, missings_data, current_date, dropped_columns, dummied_data, treat_outliers, outliers_data, balance_data, balanced_data, drop_closed_at, scale_data, scaled_data, feat_sel, THRESHOLD\n",
    "\n",
    "#----------------------------------------------------------#\n",
    "#----------------------GENERAL CONFIG----------------------#\n",
    "#----------------------------------------------------------#\n",
    "# Project and Dataset Config:\n",
    "project_path = '../'\n",
    "data_file = '01_data/PRSA_Data_20130301-20170228/PRSA_Data_Changping_20130301-20170228.csv'\n",
    "prepared_out_data_file = '01_data/data_prep.csv'\n",
    "ts_transf_data_file = '01_data/data_ts_transf.csv'\n",
    "\n",
    "# Target variable:\n",
    "target = 'PM2.5'\n",
    "\n",
    "# Time Variable:\n",
    "time_var = 'date'\n",
    "\n",
    "# Drop vars:\n",
    "drop_vars = ['hour','day','month','year', 'station', 'No']\n",
    "\n",
    "#----------------------------------------------------------#\n",
    "#-----------TIMESERIES TRANSFORMATION TREATMENT------------#\n",
    "#----------------------------------------------------------#\n",
    "# ts_transf_df = 'smooth_df_10_multi'\n",
    "# ts_transf_df = 'smooth_df_100_multi'\n",
    "# ts_transf_df = 'agg_multi_D_df'\n",
    "ts_transf_df = 'agg_multi_W_df'\n",
    "# ts_transf_df = 'agg_multi_M_df'\n",
    "# ts_transf_df = 'diff_df_multi'\n",
    "\n",
    "#----------------------------------------------------------#\n",
    "#---------------------MODELS TREATMENT---------------------#\n",
    "#----------------------------------------------------------#\n",
    "# 1. Feature Engineering:\n",
    "#   1.1. Feature Selection:\n",
    "feat_sel = True\n",
    "THRESHOLD = 0.80\n",
    "\n",
    "#   1.2. Feature Generation [DATES TREATMENT]:\n",
    "current_date = '2014-01-01'\n",
    "\n",
    "# Drop closed_at column? (since it is correlated with the target variable > where the company is successful, the closed_at is NaT):\n",
    "drop_closed_at = True"
   ]
  }
 ],
 "metadata": {
  "interpreter": {
   "hash": "33f98093aa87b87b8ce2791f74c96ecceb4aa5ebbdb74c651840878b376c1c58"
  },
  "kernelspec": {
   "display_name": "Python 3.8.5 64-bit ('base': conda)",
   "language": "python",
   "name": "python3"
  },
  "language_info": {
   "codemirror_mode": {
    "name": "ipython",
    "version": 3
   },
   "file_extension": ".py",
   "mimetype": "text/x-python",
   "name": "python",
   "nbconvert_exporter": "python",
   "pygments_lexer": "ipython3",
   "version": "3.8.5"
  },
  "orig_nbformat": 4
 },
 "nbformat": 4,
 "nbformat_minor": 2
}
