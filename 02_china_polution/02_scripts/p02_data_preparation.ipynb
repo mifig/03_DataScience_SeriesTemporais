{
 "cells": [
  {
   "cell_type": "markdown",
   "metadata": {},
   "source": [
    "# DATA PREPARATION"
   ]
  },
  {
   "cell_type": "markdown",
   "metadata": {},
   "source": [
    "## 00. INIT\n",
    "\n",
    "Treating the data after profiling and analysing the necessary transformations to be applied, step by step:\n",
    "1. Missing Values;\n",
    "2. Dummification;\n",
    "3. Scaling (standard)\n",
    "4. Feature Engineering (TBD) - ignorar a menos que a mtariz de corelação tenha identificado correlações"
   ]
  },
  {
   "cell_type": "code",
   "execution_count": 54,
   "metadata": {},
   "outputs": [],
   "source": [
    "import numpy as np\n",
    "import pandas as pd\n",
    "import datetime as dt\n",
    "from pandas.plotting import register_matplotlib_converters\n",
    "from ds_charts import get_variable_types\n",
    "import midstep_evaluation_functions as midfunc\n",
    "from sklearn.preprocessing import StandardScaler, MinMaxScaler\n",
    "from pandas import DataFrame, concat\n",
    "from matplotlib.pyplot import subplots, show, figure, title, savefig\n",
    "from seaborn import heatmap\n",
    "import matplotlib.pyplot as plt\n",
    "import ds_charts as ds\n",
    "from imblearn.over_sampling import SMOTE\n",
    "import sklearn.metrics as metrics\n",
    "from sklearn.neighbors import KNeighborsClassifier\n",
    "from sklearn.naive_bayes import GaussianNB, MultinomialNB, BernoulliNB\n",
    "from numpy import arange, ndarray, newaxis, set_printoptions, isnan\n",
    "\n",
    "%run p00_settings.ipynb"
   ]
  },
  {
   "cell_type": "code",
   "execution_count": 55,
   "metadata": {},
   "outputs": [
    {
     "data": {
      "text/plain": [
       "(35064, 12)"
      ]
     },
     "execution_count": 55,
     "metadata": {},
     "output_type": "execute_result"
    }
   ],
   "source": [
    "register_matplotlib_converters()\n",
    "\n",
    "data = pd.read_csv(project_path + data_file, sep=',', decimal='.', parse_dates=True, infer_datetime_format=True)\n",
    "data[time_var] = pd.to_datetime(data[['year', 'month', 'day', 'hour']])\n",
    "data.set_index(time_var, inplace=True)\n",
    "\n",
    "data.drop(columns=drop_vars, inplace= True)\n",
    "data.shape"
   ]
  },
  {
   "cell_type": "code",
   "execution_count": 56,
   "metadata": {},
   "outputs": [
    {
     "data": {
      "text/html": [
       "<div>\n",
       "<style scoped>\n",
       "    .dataframe tbody tr th:only-of-type {\n",
       "        vertical-align: middle;\n",
       "    }\n",
       "\n",
       "    .dataframe tbody tr th {\n",
       "        vertical-align: top;\n",
       "    }\n",
       "\n",
       "    .dataframe thead th {\n",
       "        text-align: right;\n",
       "    }\n",
       "</style>\n",
       "<table border=\"1\" class=\"dataframe\">\n",
       "  <thead>\n",
       "    <tr style=\"text-align: right;\">\n",
       "      <th></th>\n",
       "      <th>PM2.5</th>\n",
       "      <th>PM10</th>\n",
       "      <th>SO2</th>\n",
       "      <th>NO2</th>\n",
       "      <th>CO</th>\n",
       "      <th>O3</th>\n",
       "      <th>TEMP</th>\n",
       "      <th>PRES</th>\n",
       "      <th>DEWP</th>\n",
       "      <th>RAIN</th>\n",
       "      <th>wd</th>\n",
       "      <th>WSPM</th>\n",
       "    </tr>\n",
       "    <tr>\n",
       "      <th>date</th>\n",
       "      <th></th>\n",
       "      <th></th>\n",
       "      <th></th>\n",
       "      <th></th>\n",
       "      <th></th>\n",
       "      <th></th>\n",
       "      <th></th>\n",
       "      <th></th>\n",
       "      <th></th>\n",
       "      <th></th>\n",
       "      <th></th>\n",
       "      <th></th>\n",
       "    </tr>\n",
       "  </thead>\n",
       "  <tbody>\n",
       "    <tr>\n",
       "      <th>2013-03-01 00:00:00</th>\n",
       "      <td>3.0</td>\n",
       "      <td>6.0</td>\n",
       "      <td>13.0</td>\n",
       "      <td>7.0</td>\n",
       "      <td>300.0</td>\n",
       "      <td>85.0</td>\n",
       "      <td>-2.3</td>\n",
       "      <td>1020.8</td>\n",
       "      <td>-19.7</td>\n",
       "      <td>0.0</td>\n",
       "      <td>E</td>\n",
       "      <td>0.5</td>\n",
       "    </tr>\n",
       "    <tr>\n",
       "      <th>2013-03-01 01:00:00</th>\n",
       "      <td>3.0</td>\n",
       "      <td>3.0</td>\n",
       "      <td>6.0</td>\n",
       "      <td>6.0</td>\n",
       "      <td>300.0</td>\n",
       "      <td>85.0</td>\n",
       "      <td>-2.5</td>\n",
       "      <td>1021.3</td>\n",
       "      <td>-19.0</td>\n",
       "      <td>0.0</td>\n",
       "      <td>ENE</td>\n",
       "      <td>0.7</td>\n",
       "    </tr>\n",
       "    <tr>\n",
       "      <th>2013-03-01 02:00:00</th>\n",
       "      <td>3.0</td>\n",
       "      <td>3.0</td>\n",
       "      <td>22.0</td>\n",
       "      <td>13.0</td>\n",
       "      <td>400.0</td>\n",
       "      <td>74.0</td>\n",
       "      <td>-3.0</td>\n",
       "      <td>1021.3</td>\n",
       "      <td>-19.9</td>\n",
       "      <td>0.0</td>\n",
       "      <td>ENE</td>\n",
       "      <td>0.2</td>\n",
       "    </tr>\n",
       "    <tr>\n",
       "      <th>2013-03-01 03:00:00</th>\n",
       "      <td>3.0</td>\n",
       "      <td>6.0</td>\n",
       "      <td>12.0</td>\n",
       "      <td>8.0</td>\n",
       "      <td>300.0</td>\n",
       "      <td>81.0</td>\n",
       "      <td>-3.6</td>\n",
       "      <td>1021.8</td>\n",
       "      <td>-19.1</td>\n",
       "      <td>0.0</td>\n",
       "      <td>NNE</td>\n",
       "      <td>1.0</td>\n",
       "    </tr>\n",
       "    <tr>\n",
       "      <th>2013-03-01 04:00:00</th>\n",
       "      <td>3.0</td>\n",
       "      <td>3.0</td>\n",
       "      <td>14.0</td>\n",
       "      <td>8.0</td>\n",
       "      <td>300.0</td>\n",
       "      <td>81.0</td>\n",
       "      <td>-3.5</td>\n",
       "      <td>1022.3</td>\n",
       "      <td>-19.4</td>\n",
       "      <td>0.0</td>\n",
       "      <td>N</td>\n",
       "      <td>2.1</td>\n",
       "    </tr>\n",
       "    <tr>\n",
       "      <th>...</th>\n",
       "      <td>...</td>\n",
       "      <td>...</td>\n",
       "      <td>...</td>\n",
       "      <td>...</td>\n",
       "      <td>...</td>\n",
       "      <td>...</td>\n",
       "      <td>...</td>\n",
       "      <td>...</td>\n",
       "      <td>...</td>\n",
       "      <td>...</td>\n",
       "      <td>...</td>\n",
       "      <td>...</td>\n",
       "    </tr>\n",
       "    <tr>\n",
       "      <th>2017-02-28 19:00:00</th>\n",
       "      <td>28.0</td>\n",
       "      <td>47.0</td>\n",
       "      <td>4.0</td>\n",
       "      <td>14.0</td>\n",
       "      <td>300.0</td>\n",
       "      <td>NaN</td>\n",
       "      <td>11.7</td>\n",
       "      <td>1008.9</td>\n",
       "      <td>-13.3</td>\n",
       "      <td>0.0</td>\n",
       "      <td>NNE</td>\n",
       "      <td>1.3</td>\n",
       "    </tr>\n",
       "    <tr>\n",
       "      <th>2017-02-28 20:00:00</th>\n",
       "      <td>12.0</td>\n",
       "      <td>12.0</td>\n",
       "      <td>3.0</td>\n",
       "      <td>23.0</td>\n",
       "      <td>500.0</td>\n",
       "      <td>64.0</td>\n",
       "      <td>10.9</td>\n",
       "      <td>1009.0</td>\n",
       "      <td>-14.0</td>\n",
       "      <td>0.0</td>\n",
       "      <td>N</td>\n",
       "      <td>2.1</td>\n",
       "    </tr>\n",
       "    <tr>\n",
       "      <th>2017-02-28 21:00:00</th>\n",
       "      <td>7.0</td>\n",
       "      <td>23.0</td>\n",
       "      <td>5.0</td>\n",
       "      <td>17.0</td>\n",
       "      <td>500.0</td>\n",
       "      <td>68.0</td>\n",
       "      <td>9.5</td>\n",
       "      <td>1009.4</td>\n",
       "      <td>-13.0</td>\n",
       "      <td>0.0</td>\n",
       "      <td>N</td>\n",
       "      <td>1.5</td>\n",
       "    </tr>\n",
       "    <tr>\n",
       "      <th>2017-02-28 22:00:00</th>\n",
       "      <td>11.0</td>\n",
       "      <td>20.0</td>\n",
       "      <td>3.0</td>\n",
       "      <td>15.0</td>\n",
       "      <td>500.0</td>\n",
       "      <td>72.0</td>\n",
       "      <td>7.8</td>\n",
       "      <td>1009.6</td>\n",
       "      <td>-12.6</td>\n",
       "      <td>0.0</td>\n",
       "      <td>NW</td>\n",
       "      <td>1.4</td>\n",
       "    </tr>\n",
       "    <tr>\n",
       "      <th>2017-02-28 23:00:00</th>\n",
       "      <td>20.0</td>\n",
       "      <td>25.0</td>\n",
       "      <td>6.0</td>\n",
       "      <td>28.0</td>\n",
       "      <td>900.0</td>\n",
       "      <td>54.0</td>\n",
       "      <td>7.0</td>\n",
       "      <td>1009.4</td>\n",
       "      <td>-12.2</td>\n",
       "      <td>0.0</td>\n",
       "      <td>N</td>\n",
       "      <td>1.9</td>\n",
       "    </tr>\n",
       "  </tbody>\n",
       "</table>\n",
       "<p>35064 rows × 12 columns</p>\n",
       "</div>"
      ],
      "text/plain": [
       "                     PM2.5  PM10   SO2   NO2     CO    O3  TEMP    PRES  DEWP  \\\n",
       "date                                                                            \n",
       "2013-03-01 00:00:00    3.0   6.0  13.0   7.0  300.0  85.0  -2.3  1020.8 -19.7   \n",
       "2013-03-01 01:00:00    3.0   3.0   6.0   6.0  300.0  85.0  -2.5  1021.3 -19.0   \n",
       "2013-03-01 02:00:00    3.0   3.0  22.0  13.0  400.0  74.0  -3.0  1021.3 -19.9   \n",
       "2013-03-01 03:00:00    3.0   6.0  12.0   8.0  300.0  81.0  -3.6  1021.8 -19.1   \n",
       "2013-03-01 04:00:00    3.0   3.0  14.0   8.0  300.0  81.0  -3.5  1022.3 -19.4   \n",
       "...                    ...   ...   ...   ...    ...   ...   ...     ...   ...   \n",
       "2017-02-28 19:00:00   28.0  47.0   4.0  14.0  300.0   NaN  11.7  1008.9 -13.3   \n",
       "2017-02-28 20:00:00   12.0  12.0   3.0  23.0  500.0  64.0  10.9  1009.0 -14.0   \n",
       "2017-02-28 21:00:00    7.0  23.0   5.0  17.0  500.0  68.0   9.5  1009.4 -13.0   \n",
       "2017-02-28 22:00:00   11.0  20.0   3.0  15.0  500.0  72.0   7.8  1009.6 -12.6   \n",
       "2017-02-28 23:00:00   20.0  25.0   6.0  28.0  900.0  54.0   7.0  1009.4 -12.2   \n",
       "\n",
       "                     RAIN   wd  WSPM  \n",
       "date                                  \n",
       "2013-03-01 00:00:00   0.0    E   0.5  \n",
       "2013-03-01 01:00:00   0.0  ENE   0.7  \n",
       "2013-03-01 02:00:00   0.0  ENE   0.2  \n",
       "2013-03-01 03:00:00   0.0  NNE   1.0  \n",
       "2013-03-01 04:00:00   0.0    N   2.1  \n",
       "...                   ...  ...   ...  \n",
       "2017-02-28 19:00:00   0.0  NNE   1.3  \n",
       "2017-02-28 20:00:00   0.0    N   2.1  \n",
       "2017-02-28 21:00:00   0.0    N   1.5  \n",
       "2017-02-28 22:00:00   0.0   NW   1.4  \n",
       "2017-02-28 23:00:00   0.0    N   1.9  \n",
       "\n",
       "[35064 rows x 12 columns]"
      ]
     },
     "execution_count": 56,
     "metadata": {},
     "output_type": "execute_result"
    }
   ],
   "source": [
    "cat_vars = data.select_dtypes(include='object')\n",
    "data[cat_vars.columns] = data.select_dtypes(['object']).apply(lambda x: x.astype('category'))\n",
    "data"
   ]
  },
  {
   "cell_type": "markdown",
   "metadata": {},
   "source": [
    "## 01. Missing Values Treatment\n",
    "Treatments done:\n",
    "1. <u>data_missings</u>: Substitute by average for numerical, delete categorical MVs (only variable is 'wd', with 140 obs)"
   ]
  },
  {
   "cell_type": "code",
   "execution_count": 57,
   "metadata": {},
   "outputs": [],
   "source": [
    "mv = {}\n",
    "for var in data:\n",
    "    nr = data[var].isna().sum()\n",
    "    if nr > 0:\n",
    "        mv[var] = nr"
   ]
  },
  {
   "cell_type": "code",
   "execution_count": 58,
   "metadata": {},
   "outputs": [],
   "source": [
    "data_missings = data.copy(deep=True)\n",
    "for col in mv:\n",
    "  if col == 'wd':\n",
    "    data_missings.dropna(subset = [col], inplace=True)\n",
    "  else:\n",
    "    data_missings[col].replace(np.nan, data_missings[col].mean(), inplace=True) "
   ]
  },
  {
   "cell_type": "markdown",
   "metadata": {},
   "source": [
    "## 02. Dummification Treatment\n",
    "Dealing with nominal variables demands additional transformations for some of mining techniques, in particular the ones depending on similarity measures, where the distance between the distinct values is of major importance. The easiest transformation of such variables is called dummification, and consists on creating a new variable for each possible value from the original one, removing it from the dataset. Note, however, that this shouldn't be applied to the class variable, since it will transform a simple multi label classification problem into a multiclass problem.\n",
    "\n",
    "DO ONLY FOR NOMINAL SYMBOLIC VARIABLES\n",
    "1. Dummify all nominal vars;\n",
    "2. Drop nominal vars and keep the treated dummified nominal vars (which keeps the higher observed values of each variable and creates a column for the other_observed_values).\n"
   ]
  },
  {
   "cell_type": "code",
   "execution_count": 59,
   "metadata": {},
   "outputs": [],
   "source": [
    "variable_types = get_variable_types(data_missings)\n",
    "numeric_vars = variable_types['numeric']\n",
    "symbolic_vars = variable_types['symbolic']\n",
    "boolean_vars = variable_types['binary']"
   ]
  },
  {
   "cell_type": "markdown",
   "metadata": {},
   "source": [
    "We can make use of the OneHotEncoder, in order to apply dummification, from the package sklearn.preprocessing. The pandas.DataFrame.getDummies is much less interesting since it isn't able to apply the same encoder to different parts of a dataset, while the first one is.\n",
    "\n",
    "Be careful with missing values, since dummification only works if there is no missing value on the variables to dummify."
   ]
  },
  {
   "cell_type": "code",
   "execution_count": 61,
   "metadata": {},
   "outputs": [],
   "source": [
    "from sklearn.preprocessing import OneHotEncoder\n",
    "\n",
    "def dummify(df, vars_to_dummify):\n",
    "    other_vars = [c for c in df.columns if not c in vars_to_dummify]\n",
    "    encoder = OneHotEncoder(handle_unknown='ignore', sparse=False)\n",
    "    X = df[vars_to_dummify]\n",
    "    encoder.fit(X)\n",
    "    new_vars = encoder.get_feature_names(vars_to_dummify)\n",
    "    trans_X = encoder.transform(X)\n",
    "    dummy = pd.DataFrame(trans_X, columns=new_vars, index=X.index)\n",
    "    final_df = pd.concat([df[other_vars], dummy], axis=1)\n",
    "    return final_df"
   ]
  },
  {
   "cell_type": "code",
   "execution_count": 62,
   "metadata": {},
   "outputs": [
    {
     "name": "stdout",
     "output_type": "stream",
     "text": [
      "Index(['PM2.5', 'PM10', 'SO2', 'NO2', 'CO', 'O3', 'TEMP', 'PRES', 'DEWP',\n",
      "       'RAIN', 'WSPM', 'wd_E', 'wd_ENE', 'wd_ESE', 'wd_N', 'wd_NE', 'wd_NNE',\n",
      "       'wd_NNW', 'wd_NW', 'wd_S', 'wd_SE', 'wd_SSE', 'wd_SSW', 'wd_SW', 'wd_W',\n",
      "       'wd_WNW', 'wd_WSW'],\n",
      "      dtype='object') (34924, 27)\n"
     ]
    }
   ],
   "source": [
    "# 1. Dummify all nominal vars:\n",
    "data_dummy = dummify(data_missings, symbolic_vars)\n",
    "data_dummy.describe(include='all')\n",
    "\n",
    "print(data_dummy.columns, data_dummy.shape)"
   ]
  },
  {
   "cell_type": "markdown",
   "metadata": {},
   "source": [
    "## 03. Scaling:\n",
    "1. Standard Scaler;\n",
    "2. MinMax Scaler."
   ]
  },
  {
   "cell_type": "code",
   "execution_count": 63,
   "metadata": {},
   "outputs": [],
   "source": [
    "variable_types = get_variable_types(data_dummy)\n",
    "numeric_vars = variable_types['numeric']\n",
    "symbolic_vars = variable_types['symbolic']\n",
    "boolean_vars = variable_types['binary']\n",
    "\n",
    "df_nr = data_dummy[numeric_vars]\n",
    "df_bool = data_dummy[boolean_vars]\n"
   ]
  },
  {
   "cell_type": "markdown",
   "metadata": {},
   "source": [
    "### 03.1. <b>Standard Scaler</b>\n",
    "\n",
    "The Standard Scaler implements the z-score transformation (https://scikit-learn.org/stable/modules/generated/sklearn.preprocessing.StandardScaler.html#sklearn.preprocessing.StandardScaler)."
   ]
  },
  {
   "cell_type": "code",
   "execution_count": 64,
   "metadata": {},
   "outputs": [
    {
     "data": {
      "text/plain": [
       "(34924, 27)"
      ]
     },
     "execution_count": 64,
     "metadata": {},
     "output_type": "execute_result"
    }
   ],
   "source": [
    "transf = StandardScaler(with_mean=True, with_std=True, copy=True).fit(df_nr)\n",
    "tmp = DataFrame(transf.transform(df_nr), columns= numeric_vars)\n",
    "\n",
    "tmp.index = df_bool.index\n",
    "\n",
    "norm_data_zscore = concat([tmp,  df_bool], axis=1)\n",
    "norm_data_zscore.shape"
   ]
  },
  {
   "cell_type": "code",
   "execution_count": 65,
   "metadata": {},
   "outputs": [
    {
     "data": {
      "image/png": "[encoded data removed]",
      "text/plain": [
       "<Figure size 3000x1500 with 2 Axes>"
      ]
     },
     "metadata": {
      "needs_background": "dark"
     },
     "output_type": "display_data"
    }
   ],
   "source": [
    "fig, axs = subplots(1, 2, figsize=(20,10),squeeze=False)\n",
    "axs[0, 0].set_title('Original data')\n",
    "data_dummy.boxplot(ax=axs[0, 0])\n",
    "axs[0, 1].set_title('Z-score normalization')\n",
    "norm_data_zscore.boxplot(ax=axs[0, 1])\n",
    "plt.show()"
   ]
  },
  {
   "cell_type": "markdown",
   "metadata": {},
   "source": [
    "# Export DataFrame to CSV:"
   ]
  },
  {
   "cell_type": "code",
   "execution_count": 66,
   "metadata": {},
   "outputs": [],
   "source": [
    "norm_data_zscore.to_csv(project_path + prepared_out_data_file, index=True)"
   ]
  }
 ],
 "metadata": {
  "interpreter": {
   "hash": "33f98093aa87b87b8ce2791f74c96ecceb4aa5ebbdb74c651840878b376c1c58"
  },
  "kernelspec": {
   "display_name": "Python 3.8.5 64-bit ('base': conda)",
   "name": "python3"
  },
  "language_info": {
   "codemirror_mode": {
    "name": "ipython",
    "version": 3
   },
   "file_extension": ".py",
   "mimetype": "text/x-python",
   "name": "python",
   "nbconvert_exporter": "python",
   "pygments_lexer": "ipython3",
   "version": "3.8.5"
  },
  "orig_nbformat": 4
 },
 "nbformat": 4,
 "nbformat_minor": 2
}
