{
 "cells": [
  {
   "cell_type": "code",
   "execution_count": 2,
   "metadata": {},
   "outputs": [],
   "source": [
    "global project_path, data_file, prepared_out_data_file, ts_transf_data_file, target, time_var, drop_vars, ts_agg, ts_agg_period, ts_smooth, ts_smooth_size, ts_diff, ts_transf, temporal_windows_df, nr_instants, temp_window_data_file\n",
    "\n",
    "#----------------------------------------------------------#\n",
    "#----------------------GENERAL CONFIG----------------------#\n",
    "#----------------------------------------------------------#\n",
    "# Project and Dataset Config:\n",
    "project_path = '../'\n",
    "data_file = '01_data/PRSA_Data_20130301-20170228/PRSA_Data_Changping_20130301-20170228.csv'\n",
    "prepared_out_data_file = '01_data/data_prep.csv'\n",
    "ts_transf_data_file = '01_data/data_ts_transf.csv'\n",
    "\n",
    "# Target variable:\n",
    "target = 'PM2.5'\n",
    "\n",
    "# Time Variable:\n",
    "time_var = 'date'\n",
    "\n",
    "# Drop vars:\n",
    "drop_vars = ['hour','day','month','year', 'station', 'No']\n",
    "\n",
    "#----------------------------------------------------------#\n",
    "#-----------TIMESERIES TRANSFORMATION TREATMENT------------#\n",
    "#----------------------------------------------------------#\n",
    "# 1 - Aggregation:\n",
    "ts_agg = True\n",
    "ts_agg_period= 'D' #[D, W, M, Q, Y]\n",
    "\n",
    "# 2 - Smoothing:\n",
    "ts_smooth = False\n",
    "ts_smooth_size = 100 # [10,100]\n",
    "\n",
    "# 3 - Differentiation:\n",
    "ts_diff = False\n",
    "\n",
    "# If any timeseries transformation is applied, then it wil \n",
    "ts_transf = ts_agg or ts_smooth or ts_diff\n",
    "\n",
    "#----------------------------------------------------------#\n",
    "#---------------------MODELS TREATMENT---------------------#\n",
    "#----------------------------------------------------------#\n",
    "# Choose if a temporal window is applied to the dataframe (t-nr_instants columns) and the csv file name to save it:\n",
    "temporal_windows_df = False\n",
    "nr_instants = 5\n",
    "temp_window_data_file = '01_data/temp_window.csv'"
   ]
  }
 ],
 "metadata": {
  "interpreter": {
   "hash": "33f98093aa87b87b8ce2791f74c96ecceb4aa5ebbdb74c651840878b376c1c58"
  },
  "kernelspec": {
   "display_name": "Python 3.8.5 64-bit ('base': conda)",
   "language": "python",
   "name": "python3"
  },
  "language_info": {
   "codemirror_mode": {
    "name": "ipython",
    "version": 3
   },
   "file_extension": ".py",
   "mimetype": "text/x-python",
   "name": "python",
   "nbconvert_exporter": "python",
   "pygments_lexer": "ipython3",
   "version": "3.8.5"
  },
  "orig_nbformat": 4
 },
 "nbformat": 4,
 "nbformat_minor": 2
}
